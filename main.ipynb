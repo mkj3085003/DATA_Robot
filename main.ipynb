{
 "cells": [
  {
   "cell_type": "code",
   "execution_count": null,
   "metadata": {},
   "outputs": [],
   "source": [
    "import time\n",
    "import os\n",
    "import torch\n",
    "import torch.nn as nn\n",
    "import clip\n",
    "import matplotlib.pyplot as plt\n",
    "import numpy as np\n",
    "from torchvision import transforms\n",
    "device = \"cuda\" if torch.cuda.is_available() else \"cpu\"\n",
    "ClipModel, transform = clip.load(\"ViT-B/32\", device)\n",
    "from find_chair.model.robot_pose_prediction import RobotPosePrediction,preprocess\n",
    "model=RobotPosePrediction(ClipModel,3)\n",
    "\n",
    "import sys\n",
    "sys.path.append(\"../\")\n",
    "# import utils\n",
    "from utils import *\n",
    "import GrabSim_pb2_grpc\n",
    "import GrabSim_pb2\n",
    "\n",
    "secen = SceneManager.SceneManager()\n",
    "secen.load_scene(map_id=3,scene_num=1)\n",
    "time.sleep(5)\n",
    "camera = CameraController.CameraController(secen)\n",
    "navigator= NavigationController.NavigationController(secen)\n",
    "agent = secen.get_scene_info()\n",
    "frame_count=0\n",
    "\n",
    "while True:        \n",
    "    walk_value = [agent.location.X,agent.location.Y, agent.rotation.Yaw]#机器人的当前位姿\n",
    "    img_data = camera.capture_image(GrabSim_pb2.CameraName.Head_Color,0)\n",
    "    img = img_data.images[0]\n",
    "    img = np.frombuffer(img.data, dtype=img.dtype).reshape((img.height, img.width, img.channels))\n",
    "    instr = \"we have three person and want to sit near the window.\"#\"get me the chair.\"\n",
    "    img,instr,state=preprocess(image=img,instruction=instr,state=walk_value)\n",
    "    move_pose = model(img.to(device),instr.to(device),state.to(device)).tolist()\n",
    "    # dx,dy,dz=random.random()*500,random.random()*500,random.random()*500\n",
    "    dx,dy=move_pose[0]\n",
    "    print(f\"walk_v for this frame:,{dx},{dy}\")       \n",
    "    action = navigator.navigate_to_limit(x=agent.location.X+dx*100,y=agent.location.Y+dy*100,yaw=agent.rotation.Yaw - 90,velocity=900,distance_limit=100)\n",
    "    print(\"navi result:\",action)  # print navigation info\n",
    "    print(agent.info)  # print navigation info\n",
    "    time.sleep(2)\n",
    "    frame_count+=1\n"
   ]
  }
 ],
 "metadata": {
  "kernelspec": {
   "display_name": "HarixSim",
   "language": "python",
   "name": "python3"
  },
  "language_info": {
   "codemirror_mode": {
    "name": "ipython",
    "version": 3
   },
   "file_extension": ".py",
   "mimetype": "text/x-python",
   "name": "python",
   "nbconvert_exporter": "python",
   "pygments_lexer": "ipython3",
   "version": "3.10.6"
  }
 },
 "nbformat": 4,
 "nbformat_minor": 2
}
