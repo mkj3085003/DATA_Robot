{
 "cells": [
  {
   "cell_type": "code",
   "execution_count": 2,
   "metadata": {
    "ExecuteTime": {
     "end_time": "2023-11-11T14:41:57.558087700Z",
     "start_time": "2023-11-11T14:41:57.411958Z"
    }
   },
   "outputs": [
    {
     "ename": "NameError",
     "evalue": "name '_C' is not defined",
     "output_type": "error",
     "traceback": [
      "\u001B[1;31m---------------------------------------------------------------------------\u001B[0m",
      "\u001B[1;31mNameError\u001B[0m                                 Traceback (most recent call last)",
      "Cell \u001B[1;32mIn[2], line 3\u001B[0m\n\u001B[0;32m      1\u001B[0m \u001B[38;5;28;01mimport\u001B[39;00m \u001B[38;5;21;01mtime\u001B[39;00m\n\u001B[0;32m      2\u001B[0m \u001B[38;5;28;01mimport\u001B[39;00m \u001B[38;5;21;01mos\u001B[39;00m\n\u001B[1;32m----> 3\u001B[0m \u001B[38;5;28;01mimport\u001B[39;00m \u001B[38;5;21;01mtorch\u001B[39;00m\n\u001B[0;32m      4\u001B[0m \u001B[38;5;28;01mimport\u001B[39;00m \u001B[38;5;21;01mtorch\u001B[39;00m\u001B[38;5;21;01m.\u001B[39;00m\u001B[38;5;21;01mnn\u001B[39;00m \u001B[38;5;28;01mas\u001B[39;00m \u001B[38;5;21;01mnn\u001B[39;00m\n\u001B[0;32m      5\u001B[0m \u001B[38;5;28;01mimport\u001B[39;00m \u001B[38;5;21;01mclip\u001B[39;00m\n",
      "File \u001B[1;32m~\\.conda\\envs\\robot_game\\lib\\site-packages\\torch\\__init__.py:465\u001B[0m\n\u001B[0;32m    451\u001B[0m         \u001B[38;5;28;01mraise\u001B[39;00m \u001B[38;5;167;01mImportError\u001B[39;00m(textwrap\u001B[38;5;241m.\u001B[39mdedent(\u001B[38;5;124m'''\u001B[39m\n\u001B[0;32m    452\u001B[0m \u001B[38;5;124m            Failed to load PyTorch C extensions:\u001B[39m\n\u001B[0;32m    453\u001B[0m \u001B[38;5;124m                It appears that PyTorch has loaded the `torch/_C` folder\u001B[39m\n\u001B[1;32m   (...)\u001B[0m\n\u001B[0;32m    461\u001B[0m \u001B[38;5;124m                or by running Python from a different directory.\u001B[39m\n\u001B[0;32m    462\u001B[0m \u001B[38;5;124m            \u001B[39m\u001B[38;5;124m'''\u001B[39m)\u001B[38;5;241m.\u001B[39mstrip()) \u001B[38;5;28;01mfrom\u001B[39;00m \u001B[38;5;28;01mNone\u001B[39;00m\n\u001B[0;32m    463\u001B[0m     \u001B[38;5;28;01mraise\u001B[39;00m  \u001B[38;5;66;03m# If __file__ is not None the cause is unknown, so just re-raise.\u001B[39;00m\n\u001B[1;32m--> 465\u001B[0m \u001B[38;5;28;01mfor\u001B[39;00m name \u001B[38;5;129;01min\u001B[39;00m \u001B[38;5;28mdir\u001B[39m(\u001B[43m_C\u001B[49m):\n\u001B[0;32m    466\u001B[0m     \u001B[38;5;28;01mif\u001B[39;00m name[\u001B[38;5;241m0\u001B[39m] \u001B[38;5;241m!=\u001B[39m \u001B[38;5;124m'\u001B[39m\u001B[38;5;124m_\u001B[39m\u001B[38;5;124m'\u001B[39m \u001B[38;5;129;01mand\u001B[39;00m \u001B[38;5;129;01mnot\u001B[39;00m name\u001B[38;5;241m.\u001B[39mendswith(\u001B[38;5;124m'\u001B[39m\u001B[38;5;124mBase\u001B[39m\u001B[38;5;124m'\u001B[39m):\n\u001B[0;32m    467\u001B[0m         __all__\u001B[38;5;241m.\u001B[39mappend(name)\n",
      "\u001B[1;31mNameError\u001B[0m: name '_C' is not defined"
     ]
    }
   ],
   "source": [
    "import time\n",
    "import os\n",
    "import torch\n",
    "import torch.nn as nn\n",
    "import clip\n",
    "import matplotlib.pyplot as plt\n",
    "import numpy as np\n",
    "from torchvision import transforms\n",
    "device = \"cuda\" if torch.cuda.is_available() else \"cpu\"\n",
    "ClipModel, transform = clip.load(\"ViT-B/32\", device)\n",
    "from VLN_find_chair.model.robot_pose_prediction import RobotPosePrediction,preprocess\n",
    "model=RobotPosePrediction(ClipModel,3)\n",
    "\n",
    "import sys\n",
    "sys.path.append(\"../\")\n",
    "# import utils\n",
    "from utils import *\n",
    "import GrabSim_pb2_grpc\n",
    "import GrabSim_pb2\n",
    "\n",
    "# Create an instance of the SceneManager class\n",
    "scene_manager = SceneManager()\n",
    "\n",
    "map_id = 11    # 地图编号\n",
    "\n",
    "scene_num = 1  # 场景数量\n",
    "\n",
    "print('------------ 初始化加载场景 ------------')\n",
    "scene_manager.Init()\n",
    "scene_manager.AcquireAvailableMaps()\n",
    "scene_manager.SetWorld(map_id, scene_num)\n",
    "time.sleep(5.0)\n",
    "\n",
    "\n",
    "\n",
    "camera = CameraController.CameraController(scene_manager)\n",
    "navigator= NavigationController.NavigationController(scene_manager)\n",
    "agent = scene_manager.Observe()\n",
    "frame_count=0\n",
    "\n",
    "while True:        \n",
    "    walk_value = [agent.location.X,agent.location.Y, agent.rotation.Yaw]#机器人的当前位姿\n",
    "    img_data = camera.capture_image(GrabSim_pb2.CameraName.Head_Color,0)\n",
    "    img = img_data.images[0]\n",
    "    img = np.frombuffer(img.data, dtype=img.dtype).reshape((img.height, img.width, img.channels))\n",
    "    instr = \"we have three person and want to sit near the window.\"#\"get me the chair.\"\n",
    "    img,instr,state=preprocess(image=img,instruction=instr,state=walk_value)\n",
    "    move_pose = model(img.to(device),instr.to(device),state.to(device)).tolist()\n",
    "    # dx,dy,dz=random.random()*500,random.random()*500,random.random()*500\n",
    "    dx,dy=move_pose[0]\n",
    "    print(f\"walk_v for this frame:,{dx},{dy}\")       \n",
    "    action = navigator.navigate_to_limit(x=agent.location.X+dx*100,y=agent.location.Y+dy*100,yaw=agent.rotation.Yaw - 90,velocity=900,distance_limit=100)\n",
    "    print(\"navi result:\",action)  # print navigation info\n",
    "    print(agent.info)  # print navigation info\n",
    "    time.sleep(2)\n",
    "    frame_count+=1\n"
   ]
  },
  {
   "cell_type": "code",
   "execution_count": null,
   "outputs": [],
   "source": [],
   "metadata": {
    "collapsed": false
   }
  }
 ],
 "metadata": {
  "kernelspec": {
   "display_name": "HarixSim",
   "language": "python",
   "name": "python3"
  },
  "language_info": {
   "codemirror_mode": {
    "name": "ipython",
    "version": 3
   },
   "file_extension": ".py",
   "mimetype": "text/x-python",
   "name": "python",
   "nbconvert_exporter": "python",
   "pygments_lexer": "ipython3",
   "version": "3.10.6"
  }
 },
 "nbformat": 4,
 "nbformat_minor": 2
}
